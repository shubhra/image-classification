{
 "cells": [
  {
   "cell_type": "markdown",
   "metadata": {
    "collapsed": true,
    "deletable": true,
    "editable": true
   },
   "source": [
    "# Image Classification\n",
    "In this project, you'll classify images from the [CIFAR-10 dataset](https://www.cs.toronto.edu/~kriz/cifar.html).  The dataset consists of airplanes, dogs, cats, and other objects. You'll preprocess the images, then train a convolutional neural network on all the samples. The images need to be normalized and the labels need to be one-hot encoded.  You'll get to apply what you learned and build a convolutional, max pooling, dropout, and fully connected layers.  At the end, you'll get to see your neural network's predictions on the sample images.\n",
    "## Get the Data\n",
    "Run the following cell to download the [CIFAR-10 dataset for python](https://www.cs.toronto.edu/~kriz/cifar-10-python.tar.gz)."
   ]
  },
  {
   "cell_type": "code",
   "execution_count": 109,
   "metadata": {
    "collapsed": false,
    "deletable": true,
    "editable": true
   },
   "outputs": [
    {
     "name": "stdout",
     "output_type": "stream",
     "text": [
      "All files found!\n"
     ]
    }
   ],
   "source": [
    "\"\"\"\n",
    "DON'T MODIFY ANYTHING IN THIS CELL THAT IS BELOW THIS LINE\n",
    "\"\"\"\n",
    "from urllib.request import urlretrieve\n",
    "from os.path import isfile, isdir\n",
    "from tqdm import tqdm\n",
    "import problem_unittests as tests\n",
    "import tarfile\n",
    "\n",
    "cifar10_dataset_folder_path = 'cifar-10-batches-py'\n",
    "\n",
    "class DLProgress(tqdm):\n",
    "    last_block = 0\n",
    "\n",
    "    def hook(self, block_num=1, block_size=1, total_size=None):\n",
    "        self.total = total_size\n",
    "        self.update((block_num - self.last_block) * block_size)\n",
    "        self.last_block = block_num\n",
    "\n",
    "if not isfile('cifar-10-python.tar.gz'):\n",
    "    with DLProgress(unit='B', unit_scale=True, miniters=1, desc='CIFAR-10 Dataset') as pbar:\n",
    "        urlretrieve(\n",
    "            'https://www.cs.toronto.edu/~kriz/cifar-10-python.tar.gz',\n",
    "            'cifar-10-python.tar.gz',\n",
    "            pbar.hook)\n",
    "\n",
    "if not isdir(cifar10_dataset_folder_path):\n",
    "    with tarfile.open('cifar-10-python.tar.gz') as tar:\n",
    "        tar.extractall()\n",
    "        tar.close()\n",
    "\n",
    "\n",
    "tests.test_folder_path(cifar10_dataset_folder_path)"
   ]
  },
  {
   "cell_type": "markdown",
   "metadata": {
    "deletable": true,
    "editable": true
   },
   "source": [
    "## Explore the Data\n",
    "The dataset is broken into batches to prevent your machine from running out of memory.  The CIFAR-10 dataset consists of 5 batches, named `data_batch_1`, `data_batch_2`, etc.. Each batch contains the labels and images that are one of the following:\n",
    "* airplane\n",
    "* automobile\n",
    "* bird\n",
    "* cat\n",
    "* deer\n",
    "* dog\n",
    "* frog\n",
    "* horse\n",
    "* ship\n",
    "* truck\n",
    "\n",
    "Understanding a dataset is part of making predictions on the data.  Play around with the code cell below by changing the `batch_id` and `sample_id`. The `batch_id` is the id for a batch (1-5). The `sample_id` is the id for a image and label pair in the batch.\n",
    "\n",
    "Ask yourself \"What are all possible labels?\", \"What is the range of values for the image data?\", \"Are the labels in order or random?\".  Answers to questions like these will help you preprocess the data and end up with better predictions."
   ]
  },
  {
   "cell_type": "code",
   "execution_count": 110,
   "metadata": {
    "collapsed": false,
    "deletable": true,
    "editable": true
   },
   "outputs": [
    {
     "name": "stdout",
     "output_type": "stream",
     "text": [
      "\n",
      "Stats of batch 5:\n",
      "Samples: 10000\n",
      "Label Counts: {0: 1014, 1: 1014, 2: 952, 3: 1016, 4: 997, 5: 1025, 6: 980, 7: 977, 8: 1003, 9: 1022}\n",
      "First 20 Labels: [1, 8, 5, 1, 5, 7, 4, 3, 8, 2, 7, 2, 0, 1, 5, 9, 6, 2, 0, 8]\n",
      "\n",
      "Example of Image 97:\n",
      "Image - Min Value: 3 Max Value: 255\n",
      "Image - Shape: (32, 32, 3)\n",
      "Label - Label Id: 3 Name: cat\n"
     ]
    },
    {
     "data": {
      "image/png": "[encoded data removed]",
      "text/plain": [
       "<matplotlib.figure.Figure at 0x7ff6affb9550>"
      ]
     },
     "metadata": {
      "image/png": {
       "height": 250,
       "width": 253
      }
     },
     "output_type": "display_data"
    }
   ],
   "source": [
    "%matplotlib inline\n",
    "%config InlineBackend.figure_format = 'retina'\n",
    "\n",
    "import helper\n",
    "import numpy as np\n",
    "\n",
    "# Explore the dataset\n",
    "batch_id = 5\n",
    "sample_id = 97\n",
    "helper.display_stats(cifar10_dataset_folder_path, batch_id, sample_id)"
   ]
  },
  {
   "cell_type": "markdown",
   "metadata": {
    "deletable": true,
    "editable": true
   },
   "source": [
    "## Implement Preprocess Functions\n",
    "### Normalize\n",
    "In the cell below, implement the `normalize` function to take in image data, `x`, and return it as a normalized Numpy array. The values should be in the range of 0 to 1, inclusive.  The return object should be the same shape as `x`."
   ]
  },
  {
   "cell_type": "code",
   "execution_count": 111,
   "metadata": {
    "collapsed": false,
    "deletable": true,
    "editable": true
   },
   "outputs": [
    {
     "name": "stdout",
     "output_type": "stream",
     "text": [
      "Tests Passed\n"
     ]
    }
   ],
   "source": [
    "def normalize(x):\n",
    "    \"\"\"\n",
    "    Normalize a list of sample image data in the range of 0 to 1\n",
    "    : x: List of image data.  The image shape is (32, 32, 3)\n",
    "    : return: Numpy array of normalize data\n",
    "    \"\"\"\n",
    "    # TODO: Implement Function\n",
    "    min_val = np.min(x)\n",
    "    max_val = np.max(x)\n",
    "    return ((x - min_val) / (max_val - min_val))\n",
    "\n",
    "\"\"\"\n",
    "DON'T MODIFY ANYTHING IN THIS CELL THAT IS BELOW THIS LINE\n",
    "\"\"\"\n",
    "tests.test_normalize(normalize)"
   ]
  },
  {
   "cell_type": "markdown",
   "metadata": {
    "deletable": true,
    "editable": true
   },
   "source": [
    "### One-hot encode\n",
    "Just like the previous code cell, you'll be implementing a function for preprocessing.  This time, you'll implement the `one_hot_encode` function. The input, `x`, are a list of labels.  Implement the function to return the list of labels as One-Hot encoded Numpy array.  The possible values for labels are 0 to 9. The one-hot encoding function should return the same encoding for each value between each call to `one_hot_encode`.  Make sure to save the map of encodings outside the function.\n",
    "\n",
    "Hint: Don't reinvent the wheel."
   ]
  },
  {
   "cell_type": "code",
   "execution_count": 112,
   "metadata": {
    "collapsed": false,
    "deletable": true,
    "editable": true
   },
   "outputs": [
    {
     "name": "stdout",
     "output_type": "stream",
     "text": [
      "Tests Passed\n"
     ]
    }
   ],
   "source": [
    "from sklearn.preprocessing import LabelBinarizer\n",
    "enc = LabelBinarizer()\n",
    "enc.fit([0, 1, 2, 3, 4, 5, 6, 7, 8, 9])\n",
    "\n",
    "def one_hot_encode(x):\n",
    "    \"\"\"\n",
    "    One hot encode a list of sample labels. Return a one-hot encoded vector for each label.\n",
    "    : x: List of sample Labels\n",
    "    : return: Numpy array of one-hot encoded labels\n",
    "    \"\"\"\n",
    "    # TODO: Implement Function\n",
    "    return enc.transform(x) \n",
    "\n",
    "\n",
    "\n",
    "\"\"\"\n",
    "DON'T MODIFY ANYTHING IN THIS CELL THAT IS BELOW THIS LINE\n",
    "\"\"\"\n",
    "tests.test_one_hot_encode(one_hot_encode)"
   ]
  },
  {
   "cell_type": "markdown",
   "metadata": {
    "deletable": true,
    "editable": true
   },
   "source": [
    "### Randomize Data\n",
    "As you saw from exploring the data above, the order of the samples are randomized.  It doesn't hurt to randomize it again, but you don't need to for this dataset."
   ]
  },
  {
   "cell_type": "markdown",
   "metadata": {
    "deletable": true,
    "editable": true
   },
   "source": [
    "## Preprocess all the data and save it\n",
    "Running the code cell below will preprocess all the CIFAR-10 data and save it to file. The code below also uses 10% of the training data for validation."
   ]
  },
  {
   "cell_type": "code",
   "execution_count": 113,
   "metadata": {
    "collapsed": false,
    "deletable": true,
    "editable": true
   },
   "outputs": [],
   "source": [
    "\"\"\"\n",
    "DON'T MODIFY ANYTHING IN THIS CELL\n",
    "\"\"\"\n",
    "# Preprocess Training, Validation, and Testing Data\n",
    "helper.preprocess_and_save_data(cifar10_dataset_folder_path, normalize, one_hot_encode)"
   ]
  },
  {
   "cell_type": "markdown",
   "metadata": {
    "deletable": true,
    "editable": true
   },
   "source": [
    "# Check Point\n",
    "This is your first checkpoint.  If you ever decide to come back to this notebook or have to restart the notebook, you can start from here.  The preprocessed data has been saved to disk."
   ]
  },
  {
   "cell_type": "code",
   "execution_count": 114,
   "metadata": {
    "collapsed": true,
    "deletable": true,
    "editable": true
   },
   "outputs": [],
   "source": [
    "\"\"\"\n",
    "DON'T MODIFY ANYTHING IN THIS CELL\n",
    "\"\"\"\n",
    "import pickle\n",
    "import problem_unittests as tests\n",
    "import helper\n",
    "\n",
    "# Load the Preprocessed Validation data\n",
    "valid_features, valid_labels = pickle.load(open('preprocess_validation.p', mode='rb'))"
   ]
  },
  {
   "cell_type": "markdown",
   "metadata": {
    "deletable": true,
    "editable": true
   },
   "source": [
    "## Build the network\n",
    "For the neural network, you'll build each layer into a function.  Most of the code you've seen has been outside of functions. To test your code more thoroughly, we require that you put each layer in a function.  This allows us to give you better feedback and test for simple mistakes using our unittests before you submit your project.\n",
    "\n",
    ">**Note:** If you're finding it hard to dedicate enough time for this course each week, we've provided a small shortcut to this part of the project. In the next couple of problems, you'll have the option to use classes from the [TensorFlow Layers](https://www.tensorflow.org/api_docs/python/tf/layers) or [TensorFlow Layers (contrib)](https://www.tensorflow.org/api_guides/python/contrib.layers) packages to build each layer, except the layers you build in the \"Convolutional and Max Pooling Layer\" section.  TF Layers is similar to Keras's and TFLearn's abstraction to layers, so it's easy to pickup.\n",
    "\n",
    ">However, if you would like to get the most out of this course, try to solve all the problems _without_ using anything from the TF Layers packages. You **can** still use classes from other packages that happen to have the same name as ones you find in TF Layers! For example, instead of using the TF Layers version of the `conv2d` class, [tf.layers.conv2d](https://www.tensorflow.org/api_docs/python/tf/layers/conv2d), you would want to use the TF Neural Network version of `conv2d`, [tf.nn.conv2d](https://www.tensorflow.org/api_docs/python/tf/nn/conv2d). \n",
    "\n",
    "Let's begin!\n",
    "\n",
    "### Input\n",
    "The neural network needs to read the image data, one-hot encoded labels, and dropout keep probability. Implement the following functions\n",
    "* Implement `neural_net_image_input`\n",
    " * Return a [TF Placeholder](https://www.tensorflow.org/api_docs/python/tf/placeholder)\n",
    " * Set the shape using `image_shape` with batch size set to `None`.\n",
    " * Name the TensorFlow placeholder \"x\" using the TensorFlow `name` parameter in the [TF Placeholder](https://www.tensorflow.org/api_docs/python/tf/placeholder).\n",
    "* Implement `neural_net_label_input`\n",
    " * Return a [TF Placeholder](https://www.tensorflow.org/api_docs/python/tf/placeholder)\n",
    " * Set the shape using `n_classes` with batch size set to `None`.\n",
    " * Name the TensorFlow placeholder \"y\" using the TensorFlow `name` parameter in the [TF Placeholder](https://www.tensorflow.org/api_docs/python/tf/placeholder).\n",
    "* Implement `neural_net_keep_prob_input`\n",
    " * Return a [TF Placeholder](https://www.tensorflow.org/api_docs/python/tf/placeholder) for dropout keep probability.\n",
    " * Name the TensorFlow placeholder \"keep_prob\" using the TensorFlow `name` parameter in the [TF Placeholder](https://www.tensorflow.org/api_docs/python/tf/placeholder).\n",
    "\n",
    "These names will be used at the end of the project to load your saved model.\n",
    "\n",
    "Note: `None` for shapes in TensorFlow allow for a dynamic size."
   ]
  },
  {
   "cell_type": "code",
   "execution_count": 115,
   "metadata": {
    "collapsed": false,
    "deletable": true,
    "editable": true
   },
   "outputs": [
    {
     "name": "stdout",
     "output_type": "stream",
     "text": [
      "Image Input Tests Passed.\n",
      "Label Input Tests Passed.\n",
      "Keep Prob Tests Passed.\n"
     ]
    }
   ],
   "source": [
    "import tensorflow as tf\n",
    "\n",
    "def neural_net_image_input(image_shape):\n",
    "    \"\"\"\n",
    "    Return a Tensor for a bach of image input\n",
    "    : image_shape: Shape of the images\n",
    "    : return: Tensor for image input.\n",
    "    \"\"\"\n",
    "    # TODO: Implement Function\n",
    "    return tf.placeholder(tf.float32, shape=[None, *image_shape], name=\"x\") \n",
    "\n",
    "\n",
    "def neural_net_label_input(n_classes):\n",
    "    \"\"\"\n",
    "    Return a Tensor for a batch of label input\n",
    "    : n_classes: Number of classes\n",
    "    : return: Tensor for label input.\n",
    "    \"\"\"\n",
    "    # TODO: Implement Function\n",
    "    return tf.placeholder(tf.float32, [None, n_classes], name=\"y\")\n",
    "\n",
    "\n",
    "\n",
    "def neural_net_keep_prob_input():\n",
    "    \"\"\"\n",
    "    Return a Tensor for keep probability\n",
    "    : return: Tensor for keep probability.\n",
    "    \"\"\"\n",
    "    # TODO: Implement Function\n",
    "    return tf.placeholder(tf.float32, name=\"keep_prob\")\n",
    "\n",
    "\n",
    "\"\"\"\n",
    "DON'T MODIFY ANYTHING IN THIS CELL THAT IS BELOW THIS LINE\n",
    "\"\"\"\n",
    "tf.reset_default_graph()\n",
    "tests.test_nn_image_inputs(neural_net_image_input)\n",
    "tests.test_nn_label_inputs(neural_net_label_input)\n",
    "tests.test_nn_keep_prob_inputs(neural_net_keep_prob_input)"
   ]
  },
  {
   "cell_type": "markdown",
   "metadata": {
    "deletable": true,
    "editable": true
   },
   "source": [
    "### Convolution and Max Pooling Layer\n",
    "Convolution layers have a lot of success with images. For this code cell, you should implement the function `conv2d_maxpool` to apply convolution then max pooling:\n",
    "* Create the weight and bias using `conv_ksize`, `conv_num_outputs` and the shape of `x_tensor`.\n",
    "* Apply a convolution to `x_tensor` using weight and `conv_strides`.\n",
    " * We recommend you use same padding, but you're welcome to use any padding.\n",
    "* Add bias\n",
    "* Add a nonlinear activation to the convolution.\n",
    "* Apply Max Pooling using `pool_ksize` and `pool_strides`.\n",
    " * We recommend you use same padding, but you're welcome to use any padding.\n",
    "\n",
    "**Note:** You **can't** use [TensorFlow Layers](https://www.tensorflow.org/api_docs/python/tf/layers) or [TensorFlow Layers (contrib)](https://www.tensorflow.org/api_guides/python/contrib.layers) for **this** layer, but you can still use TensorFlow's [Neural Network](https://www.tensorflow.org/api_docs/python/tf/nn) package. You may still use the shortcut option for all the **other** layers."
   ]
  },
  {
   "cell_type": "code",
   "execution_count": 116,
   "metadata": {
    "collapsed": false,
    "deletable": true,
    "editable": true
   },
   "outputs": [
    {
     "name": "stdout",
     "output_type": "stream",
     "text": [
      "Tests Passed\n"
     ]
    }
   ],
   "source": [
    "def conv2d_maxpool(x_tensor, conv_num_outputs, conv_ksize, conv_strides, pool_ksize, pool_strides):\n",
    "    \"\"\"\n",
    "    Apply convolution then max pooling to x_tensor\n",
    "    :param x_tensor: TensorFlow Tensor\n",
    "    :param conv_num_outputs: Number of outputs for the convolutional layer\n",
    "    :param conv_ksize: kernal size 2-D Tuple for the convolutional layer\n",
    "    :param conv_strides: Stride 2-D Tuple for convolution\n",
    "    :param pool_ksize: kernal size 2-D Tuple for pool\n",
    "    :param pool_strides: Stride 2-D Tuple for pool\n",
    "    : return: A tensor that represents convolution and max pooling of x_tensor\n",
    "    \"\"\"\n",
    "    # TODO: Implement Function\n",
    "    F_W = tf.Variable(tf.truncated_normal(shape=(conv_ksize[0], conv_ksize[1], int(x_tensor.shape[3]), conv_num_outputs), stddev=0.1))\n",
    "    F_b = tf.Variable(tf.zeros(conv_num_outputs))\n",
    "    x_tensor = tf.nn.conv2d(x_tensor, F_W, strides=[1, conv_strides[0], conv_strides[1], 1], padding='SAME')\n",
    "    x_tensor = tf.nn.bias_add(x_tensor, F_b)\n",
    "    x_tensor = tf.nn.relu(x_tensor)\n",
    "    x_tensor = tf.nn.max_pool(x_tensor,ksize=[1,pool_ksize[0],pool_ksize[1],1],strides=[1,pool_strides[0], pool_strides[1], 1], padding='SAME')\n",
    "    return x_tensor \n",
    "\n",
    "\n",
    "\"\"\"\n",
    "DON'T MODIFY ANYTHING IN THIS CELL THAT IS BELOW THIS LINE\n",
    "\"\"\"\n",
    "tests.test_con_pool(conv2d_maxpool)"
   ]
  },
  {
   "cell_type": "markdown",
   "metadata": {
    "deletable": true,
    "editable": true
   },
   "source": [
    "### Flatten Layer\n",
    "Implement the `flatten` function to change the dimension of `x_tensor` from a 4-D tensor to a 2-D tensor.  The output should be the shape (*Batch Size*, *Flattened Image Size*). Shortcut option: you can use classes from the [TensorFlow Layers](https://www.tensorflow.org/api_docs/python/tf/layers) or [TensorFlow Layers (contrib)](https://www.tensorflow.org/api_guides/python/contrib.layers) packages for this layer. For more of a challenge, only use other TensorFlow packages."
   ]
  },
  {
   "cell_type": "code",
   "execution_count": 117,
   "metadata": {
    "collapsed": false,
    "deletable": true,
    "editable": true
   },
   "outputs": [
    {
     "name": "stdout",
     "output_type": "stream",
     "text": [
      "Tests Passed\n"
     ]
    }
   ],
   "source": [
    "def flatten(x_tensor):\n",
    "    \"\"\"\n",
    "    Flatten x_tensor to (Batch Size, Flattened Image Size)\n",
    "    : x_tensor: A tensor of size (Batch Size, ...), where ... are the image dimensions.\n",
    "    : return: A tensor of size (Batch Size, Flattened Image Size).\n",
    "    \"\"\"\n",
    "    # TODO: Implement Function\n",
    "    flat_size = x_tensor.get_shape().as_list()\n",
    "    return tf.reshape(x_tensor, [-1, (flat_size[1] * flat_size[2] * flat_size[3])])\n",
    "\n",
    "\n",
    "\"\"\"\n",
    "DON'T MODIFY ANYTHING IN THIS CELL THAT IS BELOW THIS LINE\n",
    "\"\"\"\n",
    "tests.test_flatten(flatten)"
   ]
  },
  {
   "cell_type": "markdown",
   "metadata": {
    "deletable": true,
    "editable": true
   },
   "source": [
    "### Fully-Connected Layer\n",
    "Implement the `fully_conn` function to apply a fully connected layer to `x_tensor` with the shape (*Batch Size*, *num_outputs*). Shortcut option: you can use classes from the [TensorFlow Layers](https://www.tensorflow.org/api_docs/python/tf/layers) or [TensorFlow Layers (contrib)](https://www.tensorflow.org/api_guides/python/contrib.layers) packages for this layer. For more of a challenge, only use other TensorFlow packages."
   ]
  },
  {
   "cell_type": "code",
   "execution_count": 118,
   "metadata": {
    "collapsed": false,
    "deletable": true,
    "editable": true
   },
   "outputs": [
    {
     "name": "stdout",
     "output_type": "stream",
     "text": [
      "Tests Passed\n"
     ]
    }
   ],
   "source": [
    "def fully_conn(x_tensor, num_outputs):\n",
    "    \"\"\"\n",
    "    Apply a fully connected layer to x_tensor using weight and bias\n",
    "    : x_tensor: A 2-D tensor where the first dimension is batch size.\n",
    "    : num_outputs: The number of output that the new tensor should be.\n",
    "    : return: A 2-D tensor where the second dimension is num_outputs.\n",
    "    \"\"\"\n",
    "    # TODO: Implement Function\n",
    "    weights = tf.Variable(tf.truncated_normal(shape = (int(x_tensor.get_shape().as_list()[1]), num_outputs),stddev=0.1))\n",
    "    biases = tf.Variable(tf.zeros(num_outputs))\n",
    "    x_tensor = tf.add(tf.matmul(x_tensor, weights), biases)\n",
    "    return tf.nn.relu(x_tensor)\n",
    "\n",
    "\n",
    "\"\"\"\n",
    "DON'T MODIFY ANYTHING IN THIS CELL THAT IS BELOW THIS LINE\n",
    "\"\"\"\n",
    "tests.test_fully_conn(fully_conn)"
   ]
  },
  {
   "cell_type": "markdown",
   "metadata": {
    "deletable": true,
    "editable": true
   },
   "source": [
    "### Output Layer\n",
    "Implement the `output` function to apply a fully connected layer to `x_tensor` with the shape (*Batch Size*, *num_outputs*). Shortcut option: you can use classes from the [TensorFlow Layers](https://www.tensorflow.org/api_docs/python/tf/layers) or [TensorFlow Layers (contrib)](https://www.tensorflow.org/api_guides/python/contrib.layers) packages for this layer. For more of a challenge, only use other TensorFlow packages.\n",
    "\n",
    "**Note:** Activation, softmax, or cross entropy should **not** be applied to this."
   ]
  },
  {
   "cell_type": "code",
   "execution_count": 119,
   "metadata": {
    "collapsed": false,
    "deletable": true,
    "editable": true
   },
   "outputs": [
    {
     "name": "stdout",
     "output_type": "stream",
     "text": [
      "Tests Passed\n"
     ]
    }
   ],
   "source": [
    "def output(x_tensor, num_outputs):\n",
    "    \"\"\"\n",
    "    Apply a output layer to x_tensor using weight and bias\n",
    "    : x_tensor: A 2-D tensor where the first dimension is batch size.\n",
    "    : num_outputs: The number of output that the new tensor should be.\n",
    "    : return: A 2-D tensor where the second dimension is num_outputs.\n",
    "    \"\"\"\n",
    "    # TODO: Implement Function\n",
    "    weights = tf.Variable(tf.truncated_normal(shape = (int(x_tensor.get_shape().as_list()[1]), num_outputs),stddev=0.1))\n",
    "    biases = tf.Variable(tf.zeros(num_outputs))\n",
    "    return tf.add(tf.matmul(x_tensor, weights), biases)\n",
    "\n",
    "\n",
    "\"\"\"\n",
    "DON'T MODIFY ANYTHING IN THIS CELL THAT IS BELOW THIS LINE\n",
    "\"\"\"\n",
    "tests.test_output(output)"
   ]
  },
  {
   "cell_type": "markdown",
   "metadata": {
    "deletable": true,
    "editable": true
   },
   "source": [
    "### Create Convolutional Model\n",
    "Implement the function `conv_net` to create a convolutional neural network model. The function takes in a batch of images, `x`, and outputs logits.  Use the layers you created above to create this model:\n",
    "\n",
    "* Apply 1, 2, or 3 Convolution and Max Pool layers\n",
    "* Apply a Flatten Layer\n",
    "* Apply 1, 2, or 3 Fully Connected Layers\n",
    "* Apply an Output Layer\n",
    "* Return the output\n",
    "* Apply [TensorFlow's Dropout](https://www.tensorflow.org/api_docs/python/tf/nn/dropout) to one or more layers in the model using `keep_prob`. "
   ]
  },
  {
   "cell_type": "code",
   "execution_count": 120,
   "metadata": {
    "collapsed": false,
    "deletable": true,
    "editable": true
   },
   "outputs": [
    {
     "name": "stdout",
     "output_type": "stream",
     "text": [
      "Neural Network Built!\n"
     ]
    }
   ],
   "source": [
    "def conv_net(x, keep_prob):\n",
    "    \"\"\"\n",
    "    Create a convolutional neural network model\n",
    "    : x: Placeholder tensor that holds image data.\n",
    "    : keep_prob: Placeholder tensor that hold dropout keep probability.\n",
    "    : return: Tensor that represents logits\n",
    "    \"\"\"\n",
    "    # TODO: Apply 1, 2, or 3 Convolution and Max Pool layers\n",
    "    #    Play around with different number of outputs, kernel size and stride\n",
    "    # Function Definition from Above:\n",
    "    #    conv2d_maxpool(x_tensor, conv_num_outputs, conv_ksize, conv_strides, pool_ksize, pool_strides)\n",
    "    x_tensor = x\n",
    "    conv_num_outputs = 16\n",
    "    conv_ksize = (5, 5)\n",
    "    conv_strides = (1, 1)\n",
    "    pool_ksize = (2, 2)\n",
    "    pool_strides = (2, 2)\n",
    "    x_tensor = conv2d_maxpool(x_tensor, conv_num_outputs, conv_ksize, conv_strides, pool_ksize, pool_strides)\n",
    "    conv_num_outputs = 32\n",
    "    conv_ksize = (3, 3)\n",
    "    conv_strides = (1, 1)\n",
    "    pool_ksize = (2, 2)\n",
    "    pool_strides = (2, 2)\n",
    "    x_tensor = conv2d_maxpool(x_tensor, conv_num_outputs, conv_ksize, conv_strides, pool_ksize, pool_strides)\n",
    "    conv_num_outputs = 64\n",
    "    conv_ksize = (2, 2)\n",
    "    conv_strides = (1, 1)\n",
    "    pool_ksize = (2, 2)\n",
    "    pool_strides = (2, 2)\n",
    "    x_tensor = conv2d_maxpool(x_tensor, conv_num_outputs, conv_ksize, conv_strides, pool_ksize, pool_strides)\n",
    "\n",
    "    # TODO: Apply a Flatten Layer\n",
    "    # Function Definition from Above:\n",
    "    #   flatten(x_tensor)\n",
    "    x_tensor = flatten(x_tensor)\n",
    "\n",
    "    # TODO: Apply 1, 2, or 3 Fully Connected Layers\n",
    "    #    Play around with different number of outputs\n",
    "    # Function Definition from Above:\n",
    "    #   fully_conn(x_tensor, num_outputs)\n",
    "    num_outputs = 128\n",
    "    x_tensor = fully_conn(x_tensor, num_outputs)\n",
    "    x_tensor = tf.nn.dropout(x_tensor, keep_prob)\n",
    "    num_outputs = 64\n",
    "    x_tensor = fully_conn(x_tensor, num_outputs)\n",
    "    x_tensor = tf.nn.dropout(x_tensor, keep_prob)\n",
    "    \n",
    "    # TODO: Apply an Output Layer\n",
    "    #    Set this to the number of classes\n",
    "    # Function Definition from Above:\n",
    "    #   output(x_tensor, num_outputs)\n",
    "    num_outputs = 10\n",
    "    x_tensor= output(x_tensor, num_outputs)\n",
    "    \n",
    "    # TODO: return output\n",
    "    return x_tensor\n",
    "\n",
    "\n",
    "\"\"\"\n",
    "DON'T MODIFY ANYTHING IN THIS CELL THAT IS BELOW THIS LINE\n",
    "\"\"\"\n",
    "\n",
    "##############################\n",
    "## Build the Neural Network ##\n",
    "##############################\n",
    "\n",
    "# Remove previous weights, bias, inputs, etc..\n",
    "tf.reset_default_graph()\n",
    "\n",
    "# Inputs\n",
    "x = neural_net_image_input((32, 32, 3))\n",
    "y = neural_net_label_input(10)\n",
    "keep_prob = neural_net_keep_prob_input()\n",
    "\n",
    "# Model\n",
    "logits = conv_net(x, keep_prob)\n",
    "\n",
    "# Name logits Tensor, so that is can be loaded from disk after training\n",
    "logits = tf.identity(logits, name='logits')\n",
    "\n",
    "# Loss and Optimizer\n",
    "cost = tf.reduce_mean(tf.nn.softmax_cross_entropy_with_logits(logits=logits, labels=y))\n",
    "optimizer = tf.train.AdamOptimizer().minimize(cost)\n",
    "\n",
    "# Accuracy\n",
    "correct_pred = tf.equal(tf.argmax(logits, 1), tf.argmax(y, 1))\n",
    "accuracy = tf.reduce_mean(tf.cast(correct_pred, tf.float32), name='accuracy')\n",
    "\n",
    "tests.test_conv_net(conv_net)"
   ]
  },
  {
   "cell_type": "markdown",
   "metadata": {
    "deletable": true,
    "editable": true
   },
   "source": [
    "## Train the Neural Network\n",
    "### Single Optimization\n",
    "Implement the function `train_neural_network` to do a single optimization.  The optimization should use `optimizer` to optimize in `session` with a `feed_dict` of the following:\n",
    "* `x` for image input\n",
    "* `y` for labels\n",
    "* `keep_prob` for keep probability for dropout\n",
    "\n",
    "This function will be called for each batch, so `tf.global_variables_initializer()` has already been called.\n",
    "\n",
    "Note: Nothing needs to be returned. This function is only optimizing the neural network."
   ]
  },
  {
   "cell_type": "code",
   "execution_count": 121,
   "metadata": {
    "collapsed": false,
    "deletable": true,
    "editable": true
   },
   "outputs": [
    {
     "name": "stdout",
     "output_type": "stream",
     "text": [
      "Tests Passed\n"
     ]
    }
   ],
   "source": [
    "def train_neural_network(session, optimizer, keep_probability, feature_batch, label_batch):\n",
    "    \"\"\"\n",
    "    Optimize the session on a batch of images and labels\n",
    "    : session: Current TensorFlow session\n",
    "    : optimizer: TensorFlow optimizer function\n",
    "    : keep_probability: keep probability\n",
    "    : feature_batch: Batch of Numpy image data\n",
    "    : label_batch: Batch of Numpy label data\n",
    "    \"\"\"\n",
    "    # TODO: Implement Function\n",
    "    session.run(optimizer, feed_dict={\n",
    "                x: feature_batch,\n",
    "                y: label_batch,\n",
    "                keep_prob: keep_probability})\n",
    "    pass\n",
    "\n",
    "\n",
    "\"\"\"\n",
    "DON'T MODIFY ANYTHING IN THIS CELL THAT IS BELOW THIS LINE\n",
    "\"\"\"\n",
    "tests.test_train_nn(train_neural_network)"
   ]
  },
  {
   "cell_type": "markdown",
   "metadata": {
    "deletable": true,
    "editable": true
   },
   "source": [
    "### Show Stats\n",
    "Implement the function `print_stats` to print loss and validation accuracy.  Use the global variables `valid_features` and `valid_labels` to calculate validation accuracy.  Use a keep probability of `1.0` to calculate the loss and validation accuracy."
   ]
  },
  {
   "cell_type": "code",
   "execution_count": 122,
   "metadata": {
    "collapsed": false,
    "deletable": true,
    "editable": true
   },
   "outputs": [],
   "source": [
    "def print_stats(session, feature_batch, label_batch, cost, accuracy):\n",
    "    \"\"\"\n",
    "    Print information about loss and validation accuracy\n",
    "    : session: Current TensorFlow session\n",
    "    : feature_batch: Batch of Numpy image data\n",
    "    : label_batch: Batch of Numpy label data\n",
    "    : cost: TensorFlow cost function\n",
    "    : accuracy: TensorFlow accuracy function\n",
    "    \"\"\"\n",
    "    # TODO: Implement Function\n",
    "    loss = session.run(cost, feed_dict={\n",
    "                x: feature_batch,\n",
    "                y: label_batch,\n",
    "                keep_prob: 1.})\n",
    "    valid_acc = session.run(accuracy, feed_dict={\n",
    "                x: valid_features,\n",
    "                y: valid_labels,\n",
    "                keep_prob: 1.})\n",
    "\n",
    "    print('Loss: {:>10.4f} Validation Accuracy: {:.6f}'.format(loss, valid_acc))\n",
    "    pass"
   ]
  },
  {
   "cell_type": "markdown",
   "metadata": {
    "deletable": true,
    "editable": true
   },
   "source": [
    "### Hyperparameters\n",
    "Tune the following parameters:\n",
    "* Set `epochs` to the number of iterations until the network stops learning or start overfitting\n",
    "* Set `batch_size` to the highest number that your machine has memory for.  Most people set them to common sizes of memory:\n",
    " * 64\n",
    " * 128\n",
    " * 256\n",
    " * ...\n",
    "* Set `keep_probability` to the probability of keeping a node using dropout"
   ]
  },
  {
   "cell_type": "code",
   "execution_count": 123,
   "metadata": {
    "collapsed": true,
    "deletable": true,
    "editable": true
   },
   "outputs": [],
   "source": [
    "# TODO: Tune Parameters\n",
    "epochs = 50\n",
    "batch_size = 256\n",
    "keep_probability = 0.5"
   ]
  },
  {
   "cell_type": "markdown",
   "metadata": {
    "deletable": true,
    "editable": true
   },
   "source": [
    "### Train on a Single CIFAR-10 Batch\n",
    "Instead of training the neural network on all the CIFAR-10 batches of data, let's use a single batch. This should save time while you iterate on the model to get a better accuracy.  Once the final validation accuracy is 50% or greater, run the model on all the data in the next section."
   ]
  },
  {
   "cell_type": "code",
   "execution_count": 124,
   "metadata": {
    "collapsed": false,
    "deletable": true,
    "editable": true
   },
   "outputs": [
    {
     "name": "stdout",
     "output_type": "stream",
     "text": [
      "Checking the Training on a Single Batch...\n",
      "Epoch  1, CIFAR-10 Batch 1:  Loss:     2.2581 Validation Accuracy: 0.227800\n",
      "Epoch  2, CIFAR-10 Batch 1:  Loss:     2.1183 Validation Accuracy: 0.314000\n",
      "Epoch  3, CIFAR-10 Batch 1:  Loss:     1.9809 Validation Accuracy: 0.360600\n",
      "Epoch  4, CIFAR-10 Batch 1:  Loss:     1.9712 Validation Accuracy: 0.358200\n",
      "Epoch  5, CIFAR-10 Batch 1:  Loss:     1.7936 Validation Accuracy: 0.400400\n",
      "Epoch  6, CIFAR-10 Batch 1:  Loss:     1.7053 Validation Accuracy: 0.413400\n",
      "Epoch  7, CIFAR-10 Batch 1:  Loss:     1.5950 Validation Accuracy: 0.403200\n",
      "Epoch  8, CIFAR-10 Batch 1:  Loss:     1.4895 Validation Accuracy: 0.445000\n",
      "Epoch  9, CIFAR-10 Batch 1:  Loss:     1.3844 Validation Accuracy: 0.452200\n",
      "Epoch 10, CIFAR-10 Batch 1:  Loss:     1.3322 Validation Accuracy: 0.463800\n",
      "Epoch 11, CIFAR-10 Batch 1:  Loss:     1.2667 Validation Accuracy: 0.481400\n",
      "Epoch 12, CIFAR-10 Batch 1:  Loss:     1.1925 Validation Accuracy: 0.486600\n",
      "Epoch 13, CIFAR-10 Batch 1:  Loss:     1.0893 Validation Accuracy: 0.496200\n",
      "Epoch 14, CIFAR-10 Batch 1:  Loss:     1.0353 Validation Accuracy: 0.504000\n",
      "Epoch 15, CIFAR-10 Batch 1:  Loss:     0.9890 Validation Accuracy: 0.496400\n",
      "Epoch 16, CIFAR-10 Batch 1:  Loss:     0.9597 Validation Accuracy: 0.491800\n",
      "Epoch 17, CIFAR-10 Batch 1:  Loss:     0.9519 Validation Accuracy: 0.525800\n",
      "Epoch 18, CIFAR-10 Batch 1:  Loss:     0.8500 Validation Accuracy: 0.516600\n",
      "Epoch 19, CIFAR-10 Batch 1:  Loss:     0.8083 Validation Accuracy: 0.523000\n",
      "Epoch 20, CIFAR-10 Batch 1:  Loss:     0.8024 Validation Accuracy: 0.528200\n",
      "Epoch 21, CIFAR-10 Batch 1:  Loss:     0.7713 Validation Accuracy: 0.527600\n",
      "Epoch 22, CIFAR-10 Batch 1:  Loss:     0.7369 Validation Accuracy: 0.541600\n",
      "Epoch 23, CIFAR-10 Batch 1:  Loss:     0.6988 Validation Accuracy: 0.539000\n",
      "Epoch 24, CIFAR-10 Batch 1:  Loss:     0.7004 Validation Accuracy: 0.542600\n",
      "Epoch 25, CIFAR-10 Batch 1:  Loss:     0.7455 Validation Accuracy: 0.528000\n",
      "Epoch 26, CIFAR-10 Batch 1:  Loss:     0.6231 Validation Accuracy: 0.557600\n",
      "Epoch 27, CIFAR-10 Batch 1:  Loss:     0.6184 Validation Accuracy: 0.555000\n",
      "Epoch 28, CIFAR-10 Batch 1:  Loss:     0.5695 Validation Accuracy: 0.563400\n",
      "Epoch 29, CIFAR-10 Batch 1:  Loss:     0.5607 Validation Accuracy: 0.550600\n",
      "Epoch 30, CIFAR-10 Batch 1:  Loss:     0.5288 Validation Accuracy: 0.557800\n",
      "Epoch 31, CIFAR-10 Batch 1:  Loss:     0.4921 Validation Accuracy: 0.553200\n",
      "Epoch 32, CIFAR-10 Batch 1:  Loss:     0.4640 Validation Accuracy: 0.572000\n",
      "Epoch 33, CIFAR-10 Batch 1:  Loss:     0.5267 Validation Accuracy: 0.544800\n",
      "Epoch 34, CIFAR-10 Batch 1:  Loss:     0.4703 Validation Accuracy: 0.552600\n",
      "Epoch 35, CIFAR-10 Batch 1:  Loss:     0.4241 Validation Accuracy: 0.554200\n",
      "Epoch 36, CIFAR-10 Batch 1:  Loss:     0.4608 Validation Accuracy: 0.550200\n",
      "Epoch 37, CIFAR-10 Batch 1:  Loss:     0.4651 Validation Accuracy: 0.559200\n",
      "Epoch 38, CIFAR-10 Batch 1:  Loss:     0.4233 Validation Accuracy: 0.559600\n",
      "Epoch 39, CIFAR-10 Batch 1:  Loss:     0.3857 Validation Accuracy: 0.570800\n",
      "Epoch 40, CIFAR-10 Batch 1:  Loss:     0.3665 Validation Accuracy: 0.574000\n",
      "Epoch 41, CIFAR-10 Batch 1:  Loss:     0.3562 Validation Accuracy: 0.572600\n",
      "Epoch 42, CIFAR-10 Batch 1:  Loss:     0.3360 Validation Accuracy: 0.575800\n",
      "Epoch 43, CIFAR-10 Batch 1:  Loss:     0.2925 Validation Accuracy: 0.575600\n",
      "Epoch 44, CIFAR-10 Batch 1:  Loss:     0.2827 Validation Accuracy: 0.574200\n",
      "Epoch 45, CIFAR-10 Batch 1:  Loss:     0.2614 Validation Accuracy: 0.575600\n",
      "Epoch 46, CIFAR-10 Batch 1:  Loss:     0.2635 Validation Accuracy: 0.578400\n",
      "Epoch 47, CIFAR-10 Batch 1:  Loss:     0.2706 Validation Accuracy: 0.584800\n",
      "Epoch 48, CIFAR-10 Batch 1:  Loss:     0.2505 Validation Accuracy: 0.582800\n",
      "Epoch 49, CIFAR-10 Batch 1:  Loss:     0.2469 Validation Accuracy: 0.584800\n",
      "Epoch 50, CIFAR-10 Batch 1:  Loss:     0.2439 Validation Accuracy: 0.582800\n"
     ]
    }
   ],
   "source": [
    "\"\"\"\n",
    "DON'T MODIFY ANYTHING IN THIS CELL\n",
    "\"\"\"\n",
    "print('Checking the Training on a Single Batch...')\n",
    "with tf.Session() as sess:\n",
    "    # Initializing the variables\n",
    "    sess.run(tf.global_variables_initializer())\n",
    "    \n",
    "    # Training cycle\n",
    "    for epoch in range(epochs):\n",
    "        batch_i = 1\n",
    "        for batch_features, batch_labels in helper.load_preprocess_training_batch(batch_i, batch_size):\n",
    "            train_neural_network(sess, optimizer, keep_probability, batch_features, batch_labels)\n",
    "        print('Epoch {:>2}, CIFAR-10 Batch {}:  '.format(epoch + 1, batch_i), end='')\n",
    "        print_stats(sess, batch_features, batch_labels, cost, accuracy)"
   ]
  },
  {
   "cell_type": "markdown",
   "metadata": {
    "deletable": true,
    "editable": true
   },
   "source": [
    "### Fully Train the Model\n",
    "Now that you got a good accuracy with a single CIFAR-10 batch, try it with all five batches."
   ]
  },
  {
   "cell_type": "code",
   "execution_count": 126,
   "metadata": {
    "collapsed": false,
    "deletable": true,
    "editable": true
   },
   "outputs": [
    {
     "name": "stdout",
     "output_type": "stream",
     "text": [
      "Training...\n",
      "Epoch  1, CIFAR-10 Batch 1:  Loss:     2.2378 Validation Accuracy: 0.213800\n",
      "Epoch  1, CIFAR-10 Batch 2:  Loss:     2.0872 Validation Accuracy: 0.261800\n",
      "Epoch  1, CIFAR-10 Batch 3:  Loss:     1.7352 Validation Accuracy: 0.362800\n",
      "Epoch  1, CIFAR-10 Batch 4:  Loss:     1.7408 Validation Accuracy: 0.396200\n",
      "Epoch  1, CIFAR-10 Batch 5:  Loss:     1.7067 Validation Accuracy: 0.385200\n",
      "Epoch  2, CIFAR-10 Batch 1:  Loss:     1.8378 Validation Accuracy: 0.383200\n",
      "Epoch  2, CIFAR-10 Batch 2:  Loss:     1.6358 Validation Accuracy: 0.434400\n",
      "Epoch  2, CIFAR-10 Batch 3:  Loss:     1.3432 Validation Accuracy: 0.434600\n",
      "Epoch  2, CIFAR-10 Batch 4:  Loss:     1.5054 Validation Accuracy: 0.464800\n",
      "Epoch  2, CIFAR-10 Batch 5:  Loss:     1.5225 Validation Accuracy: 0.459000\n",
      "Epoch  3, CIFAR-10 Batch 1:  Loss:     1.5967 Validation Accuracy: 0.477200\n",
      "Epoch  3, CIFAR-10 Batch 2:  Loss:     1.3846 Validation Accuracy: 0.479000\n",
      "Epoch  3, CIFAR-10 Batch 3:  Loss:     1.2169 Validation Accuracy: 0.490000\n",
      "Epoch  3, CIFAR-10 Batch 4:  Loss:     1.3750 Validation Accuracy: 0.511000\n",
      "Epoch  3, CIFAR-10 Batch 5:  Loss:     1.3895 Validation Accuracy: 0.507600\n",
      "Epoch  4, CIFAR-10 Batch 1:  Loss:     1.3764 Validation Accuracy: 0.508000\n",
      "Epoch  4, CIFAR-10 Batch 2:  Loss:     1.2866 Validation Accuracy: 0.519000\n",
      "Epoch  4, CIFAR-10 Batch 3:  Loss:     1.0957 Validation Accuracy: 0.527000\n",
      "Epoch  4, CIFAR-10 Batch 4:  Loss:     1.2440 Validation Accuracy: 0.536000\n",
      "Epoch  4, CIFAR-10 Batch 5:  Loss:     1.2533 Validation Accuracy: 0.536800\n",
      "Epoch  5, CIFAR-10 Batch 1:  Loss:     1.2418 Validation Accuracy: 0.527400\n",
      "Epoch  5, CIFAR-10 Batch 2:  Loss:     1.2037 Validation Accuracy: 0.543000\n",
      "Epoch  5, CIFAR-10 Batch 3:  Loss:     1.0044 Validation Accuracy: 0.541800\n",
      "Epoch  5, CIFAR-10 Batch 4:  Loss:     1.1437 Validation Accuracy: 0.549800\n",
      "Epoch  5, CIFAR-10 Batch 5:  Loss:     1.1305 Validation Accuracy: 0.565400\n",
      "Epoch  6, CIFAR-10 Batch 1:  Loss:     1.1186 Validation Accuracy: 0.554400\n",
      "Epoch  6, CIFAR-10 Batch 2:  Loss:     1.0790 Validation Accuracy: 0.542600\n",
      "Epoch  6, CIFAR-10 Batch 3:  Loss:     0.9244 Validation Accuracy: 0.571600\n",
      "Epoch  6, CIFAR-10 Batch 4:  Loss:     1.0142 Validation Accuracy: 0.576600\n",
      "Epoch  6, CIFAR-10 Batch 5:  Loss:     1.0629 Validation Accuracy: 0.568200\n",
      "Epoch  7, CIFAR-10 Batch 1:  Loss:     1.0333 Validation Accuracy: 0.563600\n",
      "Epoch  7, CIFAR-10 Batch 2:  Loss:     0.9419 Validation Accuracy: 0.581800\n",
      "Epoch  7, CIFAR-10 Batch 3:  Loss:     0.8047 Validation Accuracy: 0.597800\n",
      "Epoch  7, CIFAR-10 Batch 4:  Loss:     0.9667 Validation Accuracy: 0.581800\n",
      "Epoch  7, CIFAR-10 Batch 5:  Loss:     1.0216 Validation Accuracy: 0.586400\n",
      "Epoch  8, CIFAR-10 Batch 1:  Loss:     0.9909 Validation Accuracy: 0.569400\n",
      "Epoch  8, CIFAR-10 Batch 2:  Loss:     0.8673 Validation Accuracy: 0.584000\n",
      "Epoch  8, CIFAR-10 Batch 3:  Loss:     0.8209 Validation Accuracy: 0.580800\n",
      "Epoch  8, CIFAR-10 Batch 4:  Loss:     0.8953 Validation Accuracy: 0.602600\n",
      "Epoch  8, CIFAR-10 Batch 5:  Loss:     0.9105 Validation Accuracy: 0.602000\n",
      "Epoch  9, CIFAR-10 Batch 1:  Loss:     0.8843 Validation Accuracy: 0.589800\n",
      "Epoch  9, CIFAR-10 Batch 2:  Loss:     0.8208 Validation Accuracy: 0.604000\n",
      "Epoch  9, CIFAR-10 Batch 3:  Loss:     0.7545 Validation Accuracy: 0.595800\n",
      "Epoch  9, CIFAR-10 Batch 4:  Loss:     0.7997 Validation Accuracy: 0.613400\n",
      "Epoch  9, CIFAR-10 Batch 5:  Loss:     0.8257 Validation Accuracy: 0.602600\n",
      "Epoch 10, CIFAR-10 Batch 1:  Loss:     0.8397 Validation Accuracy: 0.597600\n",
      "Epoch 10, CIFAR-10 Batch 2:  Loss:     0.7085 Validation Accuracy: 0.596200\n",
      "Epoch 10, CIFAR-10 Batch 3:  Loss:     0.6910 Validation Accuracy: 0.614400\n",
      "Epoch 10, CIFAR-10 Batch 4:  Loss:     0.7302 Validation Accuracy: 0.613200\n",
      "Epoch 10, CIFAR-10 Batch 5:  Loss:     0.7469 Validation Accuracy: 0.621000\n",
      "Epoch 11, CIFAR-10 Batch 1:  Loss:     0.7771 Validation Accuracy: 0.625200\n",
      "Epoch 11, CIFAR-10 Batch 2:  Loss:     0.6390 Validation Accuracy: 0.614400\n",
      "Epoch 11, CIFAR-10 Batch 3:  Loss:     0.6178 Validation Accuracy: 0.625000\n",
      "Epoch 11, CIFAR-10 Batch 4:  Loss:     0.6901 Validation Accuracy: 0.632600\n",
      "Epoch 11, CIFAR-10 Batch 5:  Loss:     0.6750 Validation Accuracy: 0.626800\n",
      "Epoch 12, CIFAR-10 Batch 1:  Loss:     0.7291 Validation Accuracy: 0.630800\n",
      "Epoch 12, CIFAR-10 Batch 2:  Loss:     0.6518 Validation Accuracy: 0.629400\n",
      "Epoch 12, CIFAR-10 Batch 3:  Loss:     0.5837 Validation Accuracy: 0.629000\n",
      "Epoch 12, CIFAR-10 Batch 4:  Loss:     0.6279 Validation Accuracy: 0.627400\n",
      "Epoch 12, CIFAR-10 Batch 5:  Loss:     0.6109 Validation Accuracy: 0.640800\n",
      "Epoch 13, CIFAR-10 Batch 1:  Loss:     0.6994 Validation Accuracy: 0.625000\n",
      "Epoch 13, CIFAR-10 Batch 2:  Loss:     0.5862 Validation Accuracy: 0.629400\n",
      "Epoch 13, CIFAR-10 Batch 3:  Loss:     0.5552 Validation Accuracy: 0.634800\n",
      "Epoch 13, CIFAR-10 Batch 4:  Loss:     0.6105 Validation Accuracy: 0.636200\n",
      "Epoch 13, CIFAR-10 Batch 5:  Loss:     0.5588 Validation Accuracy: 0.644400\n",
      "Epoch 14, CIFAR-10 Batch 1:  Loss:     0.6607 Validation Accuracy: 0.639400\n",
      "Epoch 14, CIFAR-10 Batch 2:  Loss:     0.5449 Validation Accuracy: 0.637200\n",
      "Epoch 14, CIFAR-10 Batch 3:  Loss:     0.5505 Validation Accuracy: 0.632800\n",
      "Epoch 14, CIFAR-10 Batch 4:  Loss:     0.5855 Validation Accuracy: 0.644000\n",
      "Epoch 14, CIFAR-10 Batch 5:  Loss:     0.5127 Validation Accuracy: 0.647400\n",
      "Epoch 15, CIFAR-10 Batch 1:  Loss:     0.6462 Validation Accuracy: 0.646400\n",
      "Epoch 15, CIFAR-10 Batch 2:  Loss:     0.5577 Validation Accuracy: 0.655400\n",
      "Epoch 15, CIFAR-10 Batch 3:  Loss:     0.4756 Validation Accuracy: 0.638400\n",
      "Epoch 15, CIFAR-10 Batch 4:  Loss:     0.5306 Validation Accuracy: 0.662200\n",
      "Epoch 15, CIFAR-10 Batch 5:  Loss:     0.4814 Validation Accuracy: 0.665800\n",
      "Epoch 16, CIFAR-10 Batch 1:  Loss:     0.6114 Validation Accuracy: 0.664200\n",
      "Epoch 16, CIFAR-10 Batch 2:  Loss:     0.4874 Validation Accuracy: 0.671000\n",
      "Epoch 16, CIFAR-10 Batch 3:  Loss:     0.4348 Validation Accuracy: 0.650200\n",
      "Epoch 16, CIFAR-10 Batch 4:  Loss:     0.4982 Validation Accuracy: 0.663000\n",
      "Epoch 16, CIFAR-10 Batch 5:  Loss:     0.4396 Validation Accuracy: 0.666800\n",
      "Epoch 17, CIFAR-10 Batch 1:  Loss:     0.6311 Validation Accuracy: 0.649800\n",
      "Epoch 17, CIFAR-10 Batch 2:  Loss:     0.4645 Validation Accuracy: 0.663200\n",
      "Epoch 17, CIFAR-10 Batch 3:  Loss:     0.4042 Validation Accuracy: 0.647600\n",
      "Epoch 17, CIFAR-10 Batch 4:  Loss:     0.4587 Validation Accuracy: 0.670000\n",
      "Epoch 17, CIFAR-10 Batch 5:  Loss:     0.4535 Validation Accuracy: 0.670400\n",
      "Epoch 18, CIFAR-10 Batch 1:  Loss:     0.5350 Validation Accuracy: 0.657800\n",
      "Epoch 18, CIFAR-10 Batch 2:  Loss:     0.4470 Validation Accuracy: 0.668400\n",
      "Epoch 18, CIFAR-10 Batch 3:  Loss:     0.4101 Validation Accuracy: 0.662800\n",
      "Epoch 18, CIFAR-10 Batch 4:  Loss:     0.4240 Validation Accuracy: 0.676200\n",
      "Epoch 18, CIFAR-10 Batch 5:  Loss:     0.3841 Validation Accuracy: 0.674000\n",
      "Epoch 19, CIFAR-10 Batch 1:  Loss:     0.5149 Validation Accuracy: 0.669400\n",
      "Epoch 19, CIFAR-10 Batch 2:  Loss:     0.4379 Validation Accuracy: 0.663000\n",
      "Epoch 19, CIFAR-10 Batch 3:  Loss:     0.3718 Validation Accuracy: 0.656200\n",
      "Epoch 19, CIFAR-10 Batch 4:  Loss:     0.3926 Validation Accuracy: 0.666800\n",
      "Epoch 19, CIFAR-10 Batch 5:  Loss:     0.3946 Validation Accuracy: 0.672000\n",
      "Epoch 20, CIFAR-10 Batch 1:  Loss:     0.4768 Validation Accuracy: 0.678600\n",
      "Epoch 20, CIFAR-10 Batch 2:  Loss:     0.3483 Validation Accuracy: 0.680800\n",
      "Epoch 20, CIFAR-10 Batch 3:  Loss:     0.3496 Validation Accuracy: 0.670800\n",
      "Epoch 20, CIFAR-10 Batch 4:  Loss:     0.3716 Validation Accuracy: 0.677400\n",
      "Epoch 20, CIFAR-10 Batch 5:  Loss:     0.3726 Validation Accuracy: 0.677000\n",
      "Epoch 21, CIFAR-10 Batch 1:  Loss:     0.4744 Validation Accuracy: 0.680800\n",
      "Epoch 21, CIFAR-10 Batch 2:  Loss:     0.3601 Validation Accuracy: 0.677800\n",
      "Epoch 21, CIFAR-10 Batch 3:  Loss:     0.3378 Validation Accuracy: 0.665800\n",
      "Epoch 21, CIFAR-10 Batch 4:  Loss:     0.3550 Validation Accuracy: 0.679200\n",
      "Epoch 21, CIFAR-10 Batch 5:  Loss:     0.3678 Validation Accuracy: 0.673800\n",
      "Epoch 22, CIFAR-10 Batch 1:  Loss:     0.4446 Validation Accuracy: 0.680800\n",
      "Epoch 22, CIFAR-10 Batch 2:  Loss:     0.3498 Validation Accuracy: 0.684000\n",
      "Epoch 22, CIFAR-10 Batch 3:  Loss:     0.3007 Validation Accuracy: 0.675400\n",
      "Epoch 22, CIFAR-10 Batch 4:  Loss:     0.3201 Validation Accuracy: 0.684400\n",
      "Epoch 22, CIFAR-10 Batch 5:  Loss:     0.3303 Validation Accuracy: 0.684000\n",
      "Epoch 23, CIFAR-10 Batch 1:  Loss:     0.4327 Validation Accuracy: 0.683600\n",
      "Epoch 23, CIFAR-10 Batch 2:  Loss:     0.3751 Validation Accuracy: 0.678000\n",
      "Epoch 23, CIFAR-10 Batch 3:  Loss:     0.3198 Validation Accuracy: 0.677800\n",
      "Epoch 23, CIFAR-10 Batch 4:  Loss:     0.3308 Validation Accuracy: 0.682200\n",
      "Epoch 23, CIFAR-10 Batch 5:  Loss:     0.2980 Validation Accuracy: 0.683200\n",
      "Epoch 24, CIFAR-10 Batch 1:  Loss:     0.4557 Validation Accuracy: 0.685800\n",
      "Epoch 24, CIFAR-10 Batch 2:  Loss:     0.3404 Validation Accuracy: 0.690200\n",
      "Epoch 24, CIFAR-10 Batch 3:  Loss:     0.2805 Validation Accuracy: 0.682800\n",
      "Epoch 24, CIFAR-10 Batch 4:  Loss:     0.2916 Validation Accuracy: 0.690400\n",
      "Epoch 24, CIFAR-10 Batch 5:  Loss:     0.2852 Validation Accuracy: 0.694600\n",
      "Epoch 25, CIFAR-10 Batch 1:  Loss:     0.3680 Validation Accuracy: 0.684400\n",
      "Epoch 25, CIFAR-10 Batch 2:  Loss:     0.3027 Validation Accuracy: 0.692200\n",
      "Epoch 25, CIFAR-10 Batch 3:  Loss:     0.2581 Validation Accuracy: 0.681000\n",
      "Epoch 25, CIFAR-10 Batch 4:  Loss:     0.2902 Validation Accuracy: 0.682400\n",
      "Epoch 25, CIFAR-10 Batch 5:  Loss:     0.2742 Validation Accuracy: 0.688600\n",
      "Epoch 26, CIFAR-10 Batch 1:  Loss:     0.4098 Validation Accuracy: 0.683200\n",
      "Epoch 26, CIFAR-10 Batch 2:  Loss:     0.3208 Validation Accuracy: 0.682200\n",
      "Epoch 26, CIFAR-10 Batch 3:  Loss:     0.2915 Validation Accuracy: 0.682000\n",
      "Epoch 26, CIFAR-10 Batch 4:  Loss:     0.2745 Validation Accuracy: 0.688000\n",
      "Epoch 26, CIFAR-10 Batch 5:  Loss:     0.2689 Validation Accuracy: 0.685600\n",
      "Epoch 27, CIFAR-10 Batch 1:  Loss:     0.3597 Validation Accuracy: 0.690600\n",
      "Epoch 27, CIFAR-10 Batch 2:  Loss:     0.3253 Validation Accuracy: 0.684200\n",
      "Epoch 27, CIFAR-10 Batch 3:  Loss:     0.2749 Validation Accuracy: 0.689200\n",
      "Epoch 27, CIFAR-10 Batch 4:  Loss:     0.2939 Validation Accuracy: 0.685400\n",
      "Epoch 27, CIFAR-10 Batch 5:  Loss:     0.2606 Validation Accuracy: 0.688200\n",
      "Epoch 28, CIFAR-10 Batch 1:  Loss:     0.3474 Validation Accuracy: 0.683600\n",
      "Epoch 28, CIFAR-10 Batch 2:  Loss:     0.2650 Validation Accuracy: 0.699000\n",
      "Epoch 28, CIFAR-10 Batch 3:  Loss:     0.2573 Validation Accuracy: 0.695600\n",
      "Epoch 28, CIFAR-10 Batch 4:  Loss:     0.2820 Validation Accuracy: 0.693200\n",
      "Epoch 28, CIFAR-10 Batch 5:  Loss:     0.2419 Validation Accuracy: 0.693200\n",
      "Epoch 29, CIFAR-10 Batch 1:  Loss:     0.3429 Validation Accuracy: 0.692200\n",
      "Epoch 29, CIFAR-10 Batch 2:  Loss:     0.2889 Validation Accuracy: 0.690600\n",
      "Epoch 29, CIFAR-10 Batch 3:  Loss:     0.2403 Validation Accuracy: 0.701200\n",
      "Epoch 29, CIFAR-10 Batch 4:  Loss:     0.2527 Validation Accuracy: 0.694400\n",
      "Epoch 29, CIFAR-10 Batch 5:  Loss:     0.2319 Validation Accuracy: 0.687200\n",
      "Epoch 30, CIFAR-10 Batch 1:  Loss:     0.2769 Validation Accuracy: 0.692800\n",
      "Epoch 30, CIFAR-10 Batch 2:  Loss:     0.2583 Validation Accuracy: 0.696000\n",
      "Epoch 30, CIFAR-10 Batch 3:  Loss:     0.2510 Validation Accuracy: 0.686600\n",
      "Epoch 30, CIFAR-10 Batch 4:  Loss:     0.2642 Validation Accuracy: 0.684200\n",
      "Epoch 30, CIFAR-10 Batch 5:  Loss:     0.2113 Validation Accuracy: 0.696800\n",
      "Epoch 31, CIFAR-10 Batch 1:  Loss:     0.2793 Validation Accuracy: 0.696600\n",
      "Epoch 31, CIFAR-10 Batch 2:  Loss:     0.2588 Validation Accuracy: 0.689200\n",
      "Epoch 31, CIFAR-10 Batch 3:  Loss:     0.2349 Validation Accuracy: 0.691600\n",
      "Epoch 31, CIFAR-10 Batch 4:  Loss:     0.2345 Validation Accuracy: 0.695400\n",
      "Epoch 31, CIFAR-10 Batch 5:  Loss:     0.1983 Validation Accuracy: 0.691600\n",
      "Epoch 32, CIFAR-10 Batch 1:  Loss:     0.2765 Validation Accuracy: 0.696000\n",
      "Epoch 32, CIFAR-10 Batch 2:  Loss:     0.2673 Validation Accuracy: 0.680800\n",
      "Epoch 32, CIFAR-10 Batch 3:  Loss:     0.2103 Validation Accuracy: 0.694200\n",
      "Epoch 32, CIFAR-10 Batch 4:  Loss:     0.2241 Validation Accuracy: 0.689400\n",
      "Epoch 32, CIFAR-10 Batch 5:  Loss:     0.2151 Validation Accuracy: 0.677000\n",
      "Epoch 33, CIFAR-10 Batch 1:  Loss:     0.2487 Validation Accuracy: 0.697000\n",
      "Epoch 33, CIFAR-10 Batch 2:  Loss:     0.2969 Validation Accuracy: 0.699200\n",
      "Epoch 33, CIFAR-10 Batch 3:  Loss:     0.2129 Validation Accuracy: 0.694600\n",
      "Epoch 33, CIFAR-10 Batch 4:  Loss:     0.2184 Validation Accuracy: 0.687400\n",
      "Epoch 33, CIFAR-10 Batch 5:  Loss:     0.2240 Validation Accuracy: 0.688800\n",
      "Epoch 34, CIFAR-10 Batch 1:  Loss:     0.2521 Validation Accuracy: 0.695400\n",
      "Epoch 34, CIFAR-10 Batch 2:  Loss:     0.2243 Validation Accuracy: 0.691200\n",
      "Epoch 34, CIFAR-10 Batch 3:  Loss:     0.2065 Validation Accuracy: 0.703600\n",
      "Epoch 34, CIFAR-10 Batch 4:  Loss:     0.2275 Validation Accuracy: 0.683400\n",
      "Epoch 34, CIFAR-10 Batch 5:  Loss:     0.1937 Validation Accuracy: 0.698800\n",
      "Epoch 35, CIFAR-10 Batch 1:  Loss:     0.2518 Validation Accuracy: 0.693400\n",
      "Epoch 35, CIFAR-10 Batch 2:  Loss:     0.2506 Validation Accuracy: 0.686400\n",
      "Epoch 35, CIFAR-10 Batch 3:  Loss:     0.1933 Validation Accuracy: 0.698600\n",
      "Epoch 35, CIFAR-10 Batch 4:  Loss:     0.2072 Validation Accuracy: 0.689800\n",
      "Epoch 35, CIFAR-10 Batch 5:  Loss:     0.1983 Validation Accuracy: 0.688800\n",
      "Epoch 36, CIFAR-10 Batch 1:  Loss:     0.2664 Validation Accuracy: 0.701000\n",
      "Epoch 36, CIFAR-10 Batch 2:  Loss:     0.2284 Validation Accuracy: 0.684400\n",
      "Epoch 36, CIFAR-10 Batch 3:  Loss:     0.1824 Validation Accuracy: 0.698600\n",
      "Epoch 36, CIFAR-10 Batch 4:  Loss:     0.2241 Validation Accuracy: 0.695800\n",
      "Epoch 36, CIFAR-10 Batch 5:  Loss:     0.1924 Validation Accuracy: 0.690400\n",
      "Epoch 37, CIFAR-10 Batch 1:  Loss:     0.2859 Validation Accuracy: 0.693800\n",
      "Epoch 37, CIFAR-10 Batch 2:  Loss:     0.2174 Validation Accuracy: 0.689800\n",
      "Epoch 37, CIFAR-10 Batch 3:  Loss:     0.1956 Validation Accuracy: 0.694400\n",
      "Epoch 37, CIFAR-10 Batch 4:  Loss:     0.2316 Validation Accuracy: 0.695000\n",
      "Epoch 37, CIFAR-10 Batch 5:  Loss:     0.1697 Validation Accuracy: 0.700800\n",
      "Epoch 38, CIFAR-10 Batch 1:  Loss:     0.2857 Validation Accuracy: 0.679400\n",
      "Epoch 38, CIFAR-10 Batch 2:  Loss:     0.2127 Validation Accuracy: 0.695600\n",
      "Epoch 38, CIFAR-10 Batch 3:  Loss:     0.1873 Validation Accuracy: 0.698800\n",
      "Epoch 38, CIFAR-10 Batch 4:  Loss:     0.1911 Validation Accuracy: 0.704200\n",
      "Epoch 38, CIFAR-10 Batch 5:  Loss:     0.1597 Validation Accuracy: 0.698600\n",
      "Epoch 39, CIFAR-10 Batch 1:  Loss:     0.2582 Validation Accuracy: 0.701400\n",
      "Epoch 39, CIFAR-10 Batch 2:  Loss:     0.2318 Validation Accuracy: 0.695000\n",
      "Epoch 39, CIFAR-10 Batch 3:  Loss:     0.1818 Validation Accuracy: 0.698200\n",
      "Epoch 39, CIFAR-10 Batch 4:  Loss:     0.2006 Validation Accuracy: 0.699200\n",
      "Epoch 39, CIFAR-10 Batch 5:  Loss:     0.1392 Validation Accuracy: 0.691800\n",
      "Epoch 40, CIFAR-10 Batch 1:  Loss:     0.2077 Validation Accuracy: 0.689000\n",
      "Epoch 40, CIFAR-10 Batch 2:  Loss:     0.2258 Validation Accuracy: 0.699000\n",
      "Epoch 40, CIFAR-10 Batch 3:  Loss:     0.1748 Validation Accuracy: 0.701800\n",
      "Epoch 40, CIFAR-10 Batch 4:  Loss:     0.1839 Validation Accuracy: 0.699800\n",
      "Epoch 40, CIFAR-10 Batch 5:  Loss:     0.1448 Validation Accuracy: 0.699800\n",
      "Epoch 41, CIFAR-10 Batch 1:  Loss:     0.2032 Validation Accuracy: 0.699600\n",
      "Epoch 41, CIFAR-10 Batch 2:  Loss:     0.2097 Validation Accuracy: 0.701400\n",
      "Epoch 41, CIFAR-10 Batch 3:  Loss:     0.1731 Validation Accuracy: 0.699400\n",
      "Epoch 41, CIFAR-10 Batch 4:  Loss:     0.2248 Validation Accuracy: 0.690400\n",
      "Epoch 41, CIFAR-10 Batch 5:  Loss:     0.1413 Validation Accuracy: 0.694400\n",
      "Epoch 42, CIFAR-10 Batch 1:  Loss:     0.2219 Validation Accuracy: 0.689000\n",
      "Epoch 42, CIFAR-10 Batch 2:  Loss:     0.1799 Validation Accuracy: 0.708800\n",
      "Epoch 42, CIFAR-10 Batch 3:  Loss:     0.1313 Validation Accuracy: 0.707800\n",
      "Epoch 42, CIFAR-10 Batch 4:  Loss:     0.1781 Validation Accuracy: 0.713800\n",
      "Epoch 42, CIFAR-10 Batch 5:  Loss:     0.1433 Validation Accuracy: 0.705800\n",
      "Epoch 43, CIFAR-10 Batch 1:  Loss:     0.2427 Validation Accuracy: 0.695600\n",
      "Epoch 43, CIFAR-10 Batch 2:  Loss:     0.1870 Validation Accuracy: 0.689400\n",
      "Epoch 43, CIFAR-10 Batch 3:  Loss:     0.1565 Validation Accuracy: 0.697600\n",
      "Epoch 43, CIFAR-10 Batch 4:  Loss:     0.1942 Validation Accuracy: 0.708400\n",
      "Epoch 43, CIFAR-10 Batch 5:  Loss:     0.1445 Validation Accuracy: 0.697000\n",
      "Epoch 44, CIFAR-10 Batch 1:  Loss:     0.1969 Validation Accuracy: 0.694600\n",
      "Epoch 44, CIFAR-10 Batch 2:  Loss:     0.1776 Validation Accuracy: 0.702800\n",
      "Epoch 44, CIFAR-10 Batch 3:  Loss:     0.1397 Validation Accuracy: 0.697200\n",
      "Epoch 44, CIFAR-10 Batch 4:  Loss:     0.1700 Validation Accuracy: 0.697400\n",
      "Epoch 44, CIFAR-10 Batch 5:  Loss:     0.1252 Validation Accuracy: 0.697400\n",
      "Epoch 45, CIFAR-10 Batch 1:  Loss:     0.2080 Validation Accuracy: 0.703400\n",
      "Epoch 45, CIFAR-10 Batch 2:  Loss:     0.1861 Validation Accuracy: 0.706800\n",
      "Epoch 45, CIFAR-10 Batch 3:  Loss:     0.1645 Validation Accuracy: 0.697400\n",
      "Epoch 45, CIFAR-10 Batch 4:  Loss:     0.1853 Validation Accuracy: 0.697200\n",
      "Epoch 45, CIFAR-10 Batch 5:  Loss:     0.1349 Validation Accuracy: 0.697200\n",
      "Epoch 46, CIFAR-10 Batch 1:  Loss:     0.2120 Validation Accuracy: 0.686800\n",
      "Epoch 46, CIFAR-10 Batch 2:  Loss:     0.1693 Validation Accuracy: 0.700200\n",
      "Epoch 46, CIFAR-10 Batch 3:  Loss:     0.1506 Validation Accuracy: 0.694800\n",
      "Epoch 46, CIFAR-10 Batch 4:  Loss:     0.1562 Validation Accuracy: 0.698600\n",
      "Epoch 46, CIFAR-10 Batch 5:  Loss:     0.1391 Validation Accuracy: 0.695200\n",
      "Epoch 47, CIFAR-10 Batch 1:  Loss:     0.1785 Validation Accuracy: 0.698200\n",
      "Epoch 47, CIFAR-10 Batch 2:  Loss:     0.1702 Validation Accuracy: 0.705000\n",
      "Epoch 47, CIFAR-10 Batch 3:  Loss:     0.1263 Validation Accuracy: 0.703600\n",
      "Epoch 47, CIFAR-10 Batch 4:  Loss:     0.1757 Validation Accuracy: 0.691600\n",
      "Epoch 47, CIFAR-10 Batch 5:  Loss:     0.1197 Validation Accuracy: 0.695400\n",
      "Epoch 48, CIFAR-10 Batch 1:  Loss:     0.1789 Validation Accuracy: 0.703800\n",
      "Epoch 48, CIFAR-10 Batch 2:  Loss:     0.1525 Validation Accuracy: 0.706800\n",
      "Epoch 48, CIFAR-10 Batch 3:  Loss:     0.1236 Validation Accuracy: 0.705200\n",
      "Epoch 48, CIFAR-10 Batch 4:  Loss:     0.1625 Validation Accuracy: 0.683000\n",
      "Epoch 48, CIFAR-10 Batch 5:  Loss:     0.1155 Validation Accuracy: 0.702200\n",
      "Epoch 49, CIFAR-10 Batch 1:  Loss:     0.2077 Validation Accuracy: 0.683600\n",
      "Epoch 49, CIFAR-10 Batch 2:  Loss:     0.1304 Validation Accuracy: 0.706600\n",
      "Epoch 49, CIFAR-10 Batch 3:  Loss:     0.1360 Validation Accuracy: 0.700200\n",
      "Epoch 49, CIFAR-10 Batch 4:  Loss:     0.1589 Validation Accuracy: 0.683600\n",
      "Epoch 49, CIFAR-10 Batch 5:  Loss:     0.1319 Validation Accuracy: 0.690400\n",
      "Epoch 50, CIFAR-10 Batch 1:  Loss:     0.1825 Validation Accuracy: 0.690600\n",
      "Epoch 50, CIFAR-10 Batch 2:  Loss:     0.1582 Validation Accuracy: 0.691000\n",
      "Epoch 50, CIFAR-10 Batch 3:  Loss:     0.1277 Validation Accuracy: 0.699400\n",
      "Epoch 50, CIFAR-10 Batch 4:  Loss:     0.1457 Validation Accuracy: 0.699800\n",
      "Epoch 50, CIFAR-10 Batch 5:  Loss:     0.1183 Validation Accuracy: 0.689600\n"
     ]
    }
   ],
   "source": [
    "\"\"\"\n",
    "DON'T MODIFY ANYTHING IN THIS CELL\n",
    "\"\"\"\n",
    "save_model_path = './image_classification'\n",
    "\n",
    "print('Training...')\n",
    "with tf.Session() as sess:\n",
    "    # Initializing the variables\n",
    "    sess.run(tf.global_variables_initializer())\n",
    "    \n",
    "    # Training cycle\n",
    "    for epoch in range(epochs):\n",
    "        # Loop over all batches\n",
    "        n_batches = 5\n",
    "        for batch_i in range(1, n_batches + 1):\n",
    "            for batch_features, batch_labels in helper.load_preprocess_training_batch(batch_i, batch_size):\n",
    "                train_neural_network(sess, optimizer, keep_probability, batch_features, batch_labels)\n",
    "            print('Epoch {:>2}, CIFAR-10 Batch {}:  '.format(epoch + 1, batch_i), end='')\n",
    "            print_stats(sess, batch_features, batch_labels, cost, accuracy)\n",
    "            \n",
    "    # Save Model\n",
    "    saver = tf.train.Saver()\n",
    "    save_path = saver.save(sess, save_model_path)"
   ]
  },
  {
   "cell_type": "markdown",
   "metadata": {
    "deletable": true,
    "editable": true
   },
   "source": [
    "# Checkpoint\n",
    "The model has been saved to disk.\n",
    "## Test Model\n",
    "Test your model against the test dataset.  This will be your final accuracy. You should have an accuracy greater than 50%. If you don't, keep tweaking the model architecture and parameters."
   ]
  },
  {
   "cell_type": "code",
   "execution_count": 142,
   "metadata": {
    "collapsed": false,
    "deletable": true,
    "editable": true
   },
   "outputs": [
    {
     "name": "stdout",
     "output_type": "stream",
     "text": [
      "Testing Accuracy: 0.68525390625\n",
      "\n"
     ]
    },
    {
     "data": {
      "image/png": "[encoded data removed]",
      "text/plain": [
       "<matplotlib.figure.Figure at 0x7ff6aebdaeb8>"
      ]
     },
     "metadata": {
      "image/png": {
       "height": 319,
       "width": 355
      }
     },
     "output_type": "display_data"
    }
   ],
   "source": [
    "\"\"\"\n",
    "DON'T MODIFY ANYTHING IN THIS CELL\n",
    "\"\"\"\n",
    "%matplotlib inline\n",
    "%config InlineBackend.figure_format = 'retina'\n",
    "\n",
    "import tensorflow as tf\n",
    "import pickle\n",
    "import helper\n",
    "import random\n",
    "\n",
    "# Set batch size if not already set\n",
    "try:\n",
    "    if batch_size:\n",
    "        pass\n",
    "except NameError:\n",
    "    batch_size = 64\n",
    "\n",
    "save_model_path = './image_classification'\n",
    "n_samples = 4\n",
    "top_n_predictions = 3\n",
    "\n",
    "def test_model():\n",
    "    \"\"\"\n",
    "    Test the saved model against the test dataset\n",
    "    \"\"\"\n",
    "\n",
    "    test_features, test_labels = pickle.load(open('preprocess_training.p', mode='rb'))\n",
    "    loaded_graph = tf.Graph()\n",
    "\n",
    "    with tf.Session(graph=loaded_graph) as sess:\n",
    "        # Load model\n",
    "        loader = tf.train.import_meta_graph(save_model_path + '.meta')\n",
    "        loader.restore(sess, save_model_path)\n",
    "\n",
    "        # Get Tensors from loaded model\n",
    "        loaded_x = loaded_graph.get_tensor_by_name('x:0')\n",
    "        loaded_y = loaded_graph.get_tensor_by_name('y:0')\n",
    "        loaded_keep_prob = loaded_graph.get_tensor_by_name('keep_prob:0')\n",
    "        loaded_logits = loaded_graph.get_tensor_by_name('logits:0')\n",
    "        loaded_acc = loaded_graph.get_tensor_by_name('accuracy:0')\n",
    "        \n",
    "        # Get accuracy in batches for memory limitations\n",
    "        test_batch_acc_total = 0\n",
    "        test_batch_count = 0\n",
    "        \n",
    "        for train_feature_batch, train_label_batch in helper.batch_features_labels(test_features, test_labels, batch_size):\n",
    "            test_batch_acc_total += sess.run(\n",
    "                loaded_acc,\n",
    "                feed_dict={loaded_x: train_feature_batch, loaded_y: train_label_batch, loaded_keep_prob: 1.0})\n",
    "            test_batch_count += 1\n",
    "\n",
    "        print('Testing Accuracy: {}\\n'.format(test_batch_acc_total/test_batch_count))\n",
    "\n",
    "        # Print Random Samples\n",
    "        random_test_features, random_test_labels = tuple(zip(*random.sample(list(zip(test_features, test_labels)), n_samples)))\n",
    "        random_test_predictions = sess.run(\n",
    "            tf.nn.top_k(tf.nn.softmax(loaded_logits), top_n_predictions),\n",
    "            feed_dict={loaded_x: random_test_features, loaded_y: random_test_labels, loaded_keep_prob: 1.0})\n",
    "        helper.display_image_predictions(random_test_features, random_test_labels, random_test_predictions)\n",
    "\n",
    "\n",
    "test_model()"
   ]
  },
  {
   "cell_type": "markdown",
   "metadata": {
    "deletable": true,
    "editable": true
   },
   "source": [
    "## Why 50-70% Accuracy?\n",
    "You might be wondering why you can't get an accuracy any higher. First things first, 50% isn't bad for a simple CNN.  Pure guessing would get you 10% accuracy. However, you might notice people are getting scores [well above 70%](http://rodrigob.github.io/are_we_there_yet/build/classification_datasets_results.html#43494641522d3130).  That's because we haven't taught you all there is to know about neural networks. We still need to cover a few more techniques.\n",
    "## Submitting This Project\n",
    "When submitting this project, make sure to run all the cells before saving the notebook.  Save the notebook file as \"dlnd_image_classification.ipynb\" and save it as a HTML file under \"File\" -> \"Download as\".  Include the \"helper.py\" and \"problem_unittests.py\" files in your submission."
   ]
  }
 ],
 "metadata": {
  "kernelspec": {
   "display_name": "Python 3",
   "language": "python",
   "name": "python3"
  },
  "language_info": {
   "codemirror_mode": {
    "name": "ipython",
    "version": 3
   },
   "file_extension": ".py",
   "mimetype": "text/x-python",
   "name": "python",
   "nbconvert_exporter": "python",
   "pygments_lexer": "ipython3",
   "version": "3.5.2"
  },
  "widgets": {
   "state": {},
   "version": "1.1.2"
  }
 },
 "nbformat": 4,
 "nbformat_minor": 0
}
